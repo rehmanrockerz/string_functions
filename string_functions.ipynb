{
 "cells": [
  {
   "cell_type": "code",
   "execution_count": 11,
   "metadata": {},
   "outputs": [
    {
     "name": "stdout",
     "output_type": "stream",
     "text": [
      "<class 'float'>\n"
     ]
    }
   ],
   "source": [
    "name=123.87\n",
    "print(type(name))"
   ]
  },
  {
   "cell_type": "code",
   "execution_count": 16,
   "metadata": {},
   "outputs": [
    {
     "name": "stdout",
     "output_type": "stream",
     "text": [
      "REHMAN\n"
     ]
    }
   ],
   "source": [
    "name=\"rehman\"\n",
    "\n",
    "print(name.upper())\n",
    "print(name.lower())\n",
    "print(name.capitalize())"
   ]
  },
  {
   "cell_type": "code",
   "execution_count": 14,
   "metadata": {},
   "outputs": [
    {
     "name": "stdout",
     "output_type": "stream",
     "text": [
      "Please enter your name rehman\n",
      "My name is rehman\n"
     ]
    }
   ],
   "source": [
    "name = input(\"Please enter your name \")\n",
    "print(\"My name is \" + name)"
   ]
  },
  {
   "cell_type": "code",
   "execution_count": 8,
   "metadata": {},
   "outputs": [
    {
     "name": "stdout",
     "output_type": "stream",
     "text": [
      "enter your name ahmed\n",
      "enter your father`s name amin\n",
      "enter your age 24\n",
      "\n",
      "My name is ahmed\n",
      "My faher name is amin\n",
      "I am 24 years old\n",
      "\n"
     ]
    }
   ],
   "source": [
    "name = input('enter your name ')\n",
    "fName = input('enter your father`s name ')\n",
    "age = input('enter your age ')\n",
    "\n",
    "# data='''\n",
    "# My name is {}\n",
    "# My faher name is {}\n",
    "# I am {} years old\n",
    "# '''\n",
    "# data=data.format(name,fName,age)\n",
    "\n",
    "data=f'''\n",
    "My name is {name}\n",
    "My faher name is {fName}\n",
    "I am {age} years old\n",
    "'''\n",
    "\n",
    "print(data)"
   ]
  }
 ],
 "metadata": {
  "kernelspec": {
   "display_name": "Python 3",
   "language": "python",
   "name": "python3"
  },
  "language_info": {
   "codemirror_mode": {
    "name": "ipython",
    "version": 3
   },
   "file_extension": ".py",
   "mimetype": "text/x-python",
   "name": "python",
   "nbconvert_exporter": "python",
   "pygments_lexer": "ipython3",
   "version": "3.7.3"
  }
 },
 "nbformat": 4,
 "nbformat_minor": 2
}
